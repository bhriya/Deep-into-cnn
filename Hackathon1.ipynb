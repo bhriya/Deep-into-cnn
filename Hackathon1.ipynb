{
 "cells": [
  {
   "cell_type": "code",
   "execution_count": 4,
   "id": "5b51d05e",
   "metadata": {},
   "outputs": [
    {
     "name": "stdout",
     "output_type": "stream",
     "text": [
      "Epoch 1/200\n",
      "180/180 [==============================] - 7s 39ms/step - loss: 2.1633 - accuracy: 0.2612 - val_loss: 1.8148 - val_accuracy: 0.3488\n",
      "Epoch 2/200\n",
      "180/180 [==============================] - 7s 39ms/step - loss: 1.8686 - accuracy: 0.3232 - val_loss: 1.7921 - val_accuracy: 0.3503\n",
      "Epoch 3/200\n",
      "180/180 [==============================] - 9s 50ms/step - loss: 1.8236 - accuracy: 0.3360 - val_loss: 1.7830 - val_accuracy: 0.3534\n",
      "Epoch 4/200\n",
      "180/180 [==============================] - 9s 49ms/step - loss: 1.8076 - accuracy: 0.3423 - val_loss: 1.7781 - val_accuracy: 0.3548\n",
      "Epoch 5/200\n",
      "180/180 [==============================] - 9s 49ms/step - loss: 1.7970 - accuracy: 0.3465 - val_loss: 1.7730 - val_accuracy: 0.3557\n",
      "Epoch 6/200\n",
      "180/180 [==============================] - 11s 58ms/step - loss: 1.7921 - accuracy: 0.3467 - val_loss: 1.7712 - val_accuracy: 0.3567\n",
      "Epoch 7/200\n",
      "180/180 [==============================] - 10s 57ms/step - loss: 1.7870 - accuracy: 0.3498 - val_loss: 1.7690 - val_accuracy: 0.3572\n",
      "Epoch 8/200\n",
      "180/180 [==============================] - 9s 49ms/step - loss: 1.7837 - accuracy: 0.3513 - val_loss: 1.7679 - val_accuracy: 0.3590\n",
      "Epoch 9/200\n",
      "180/180 [==============================] - 9s 48ms/step - loss: 1.7806 - accuracy: 0.3509 - val_loss: 1.7659 - val_accuracy: 0.3593\n",
      "Epoch 10/200\n",
      "180/180 [==============================] - 11s 63ms/step - loss: 1.7787 - accuracy: 0.3518 - val_loss: 1.7644 - val_accuracy: 0.3573\n",
      "Epoch 11/200\n",
      "180/180 [==============================] - 10s 53ms/step - loss: 1.7753 - accuracy: 0.3529 - val_loss: 1.7630 - val_accuracy: 0.3604\n",
      "Epoch 12/200\n",
      "180/180 [==============================] - 9s 49ms/step - loss: 1.7740 - accuracy: 0.3542 - val_loss: 1.7628 - val_accuracy: 0.3588\n",
      "Epoch 13/200\n",
      "180/180 [==============================] - 12s 67ms/step - loss: 1.7712 - accuracy: 0.3550 - val_loss: 1.7612 - val_accuracy: 0.3604\n",
      "Epoch 14/200\n",
      "180/180 [==============================] - 9s 49ms/step - loss: 1.7694 - accuracy: 0.3558 - val_loss: 1.7605 - val_accuracy: 0.3600\n",
      "Epoch 15/200\n",
      "180/180 [==============================] - 9s 51ms/step - loss: 1.7673 - accuracy: 0.3566 - val_loss: 1.7609 - val_accuracy: 0.3593\n",
      "Epoch 16/200\n",
      "180/180 [==============================] - 12s 64ms/step - loss: 1.7657 - accuracy: 0.3568 - val_loss: 1.7611 - val_accuracy: 0.3611\n"
     ]
    }
   ],
   "source": [
    "from __future__ import print_function\n",
    "import pandas as pd\n",
    "import numpy as np\n",
    "import tensorflow as tf\n",
    "from tensorflow.keras.models import Sequential\n",
    "from tensorflow.keras.layers import Dense\n",
    "from sklearn import preprocessing\n",
    "from sklearn.preprocessing import LabelEncoder\n",
    "training_data = pd.read_csv(r'C:\\Users\\ACER\\Desktop\\CNN Hakathon1\\train.csv')\n",
    "test_data = pd.read_csv(r'C:\\Users\\ACER\\Desktop\\CNN Hakathon1\\test.csv')\n",
    "TD = training_data.values\n",
    "Xtr = TD[:,1:76]\n",
    "ytr1 = TD[:,76]\n",
    "label_encoder = preprocessing.LabelEncoder()\n",
    "ytr = label_encoder.fit_transform(ytr1)\n",
    "ytr = tf.one_hot(ytr,depth=9)\n",
    "Xtr = tf.convert_to_tensor(Xtr, dtype=tf.int64) \n",
    "model = tf.keras.Sequential([tf.keras.layers.Dense(units = 500 ,activation = 'relu',kernel_regularizer = tf.keras.regularizers.l2(1e-6), input_shape = (Xtr.shape[1],), name = 'hidden_layer1'),\n",
    "                             tf.keras.layers.BatchNormalization(),\n",
    "                             tf.keras.layers.Dropout(0.5),\n",
    "                             tf.keras.layers.BatchNormalization(),\n",
    "                             tf.keras.layers.Dense(units = 250 ,activation = 'relu',kernel_regularizer = tf.keras.regularizers.l2(1e-6), name = 'hidden_layer2'),\n",
    "                             tf.keras.layers.BatchNormalization(),\n",
    "                             tf.keras.layers.Dropout(0.5),\n",
    "                             tf.keras.layers.BatchNormalization(),\n",
    "                             tf.keras.layers.Dense(units = 125 ,activation = 'relu',kernel_regularizer = tf.keras.regularizers.l2(1e-6), name = 'hidden_layer3'),\n",
    "                             tf.keras.layers.BatchNormalization(),\n",
    "                             tf.keras.layers.Dropout(0.5),\n",
    "                             tf.keras.layers.BatchNormalization(),\n",
    "                             tf.keras.layers.Dense(units = 9, activation = 'softmax', name = 'output_layer')])\n",
    "model.compile(optimizer = 'adam',\n",
    "             loss = 'categorical_crossentropy',\n",
    "             metrics = ['accuracy'])\n",
    "history = model.fit(Xtr, ytr, epochs=200, batch_size=1000, validation_split=0.1,callbacks=tf.keras.callbacks.EarlyStopping(patience=2))\n"
   ]
  },
  {
   "cell_type": "code",
   "execution_count": null,
   "id": "e37cf8c1",
   "metadata": {},
   "outputs": [],
   "source": []
  }
 ],
 "metadata": {
  "kernelspec": {
   "display_name": "Python 3",
   "language": "python",
   "name": "python3"
  },
  "language_info": {
   "codemirror_mode": {
    "name": "ipython",
    "version": 3
   },
   "file_extension": ".py",
   "mimetype": "text/x-python",
   "name": "python",
   "nbconvert_exporter": "python",
   "pygments_lexer": "ipython3",
   "version": "3.8.8"
  }
 },
 "nbformat": 4,
 "nbformat_minor": 5
}
