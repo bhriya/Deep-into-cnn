{
 "cells": [
  {
   "cell_type": "code",
   "execution_count": 70,
   "id": "5176f303",
   "metadata": {},
   "outputs": [
    {
     "name": "stdout",
     "output_type": "stream",
     "text": [
      "     Pregnancies  Glucose  BloodPressure  SkinThickness  Insulin   BMI  \\\n",
      "0              6      148             72             35        0  33.6   \n",
      "1              1       85             66             29        0  26.6   \n",
      "2              8      183             64              0        0  23.3   \n",
      "3              1       89             66             23       94  28.1   \n",
      "4              0      137             40             35      168  43.1   \n",
      "..           ...      ...            ...            ...      ...   ...   \n",
      "763           10      101             76             48      180  32.9   \n",
      "764            2      122             70             27        0  36.8   \n",
      "765            5      121             72             23      112  26.2   \n",
      "766            1      126             60              0        0  30.1   \n",
      "767            1       93             70             31        0  30.4   \n",
      "\n",
      "     DiabetesPedigreeFunction  Age  Outcome  \n",
      "0                       0.627   50        1  \n",
      "1                       0.351   31        0  \n",
      "2                       0.672   32        1  \n",
      "3                       0.167   21        0  \n",
      "4                       2.288   33        1  \n",
      "..                        ...  ...      ...  \n",
      "763                     0.171   63        0  \n",
      "764                     0.340   27        0  \n",
      "765                     0.245   30        0  \n",
      "766                     0.349   47        1  \n",
      "767                     0.315   23        0  \n",
      "\n",
      "[768 rows x 9 columns]\n"
     ]
    },
    {
     "name": "stderr",
     "output_type": "stream",
     "text": [
      "<ipython-input-70-baf6747de8f3>:34: RuntimeWarning: overflow encountered in exp\n",
      "  y[i] = 1/(1+(np.exp(-h)))   # using sigmoid activation function\n",
      "<ipython-input-70-baf6747de8f3>:35: RuntimeWarning: divide by zero encountered in log10\n",
      "  l = l + ytr[i]*(np.log10(y[i])) + (1-ytr[i])*(np.log(1-y[i]))   # cross entropy loss\n",
      "<ipython-input-70-baf6747de8f3>:35: RuntimeWarning: invalid value encountered in multiply\n",
      "  l = l + ytr[i]*(np.log10(y[i])) + (1-ytr[i])*(np.log(1-y[i]))   # cross entropy loss\n",
      "<ipython-input-70-baf6747de8f3>:35: RuntimeWarning: divide by zero encountered in log\n",
      "  l = l + ytr[i]*(np.log10(y[i])) + (1-ytr[i])*(np.log(1-y[i]))   # cross entropy loss\n"
     ]
    },
    {
     "name": "stdout",
     "output_type": "stream",
     "text": [
      "69.48051948051948\n"
     ]
    },
    {
     "name": "stderr",
     "output_type": "stream",
     "text": [
      "<ipython-input-70-baf6747de8f3>:56: RuntimeWarning: overflow encountered in exp\n",
      "  y[i] = 1/(1+(np.exp(-h)))\n"
     ]
    }
   ],
   "source": [
    "import matplotlib.pyplot as plt\n",
    "import numpy as np \n",
    "import pandas as pd\n",
    "import math\n",
    "from sklearn.model_selection import train_test_split\n",
    "data = pd.read_csv(r'C:\\Users\\ACER\\Desktop\\diabetes.csv')\n",
    "print(data)\n",
    "features = list(data.columns.values)\n",
    "features.remove('Outcome')\n",
    "X1=data[features]\n",
    "y1=data['Outcome']\n",
    "# splitting the data to get training and testing data\n",
    "X_train, X_test, y_train, y_test = train_test_split(X1, y1, test_size=0.2, random_state=0)\n",
    "# let n be the number of features and m be the number of training examples\n",
    "Xtr=X_train.values\n",
    "m,n=Xtr.shape\n",
    "# applying logistic regression using gradient descent\n",
    "# using to_numpy() function to convert this dataframe to a numpy array\n",
    "Xtr=X_train.to_numpy()\n",
    "ytr=y_train.to_numpy()\n",
    "# let yp be the column vector of predicted values of Output\n",
    "w1=np.zeros(n+1)  # initializing the parameters to zero\n",
    "w=np.transpose(w1)\n",
    "w_new1=np.zeros(n+1)\n",
    "w_new=np.transpose(w_new1)\n",
    "a=2 #learning rate\n",
    "for epoch in range(0,50):\n",
    "    l=0\n",
    "    y1=np.zeros(m)\n",
    "    y=np.transpose(y1)\n",
    "    for i in range(0,m):\n",
    "        for j in range (0,n):\n",
    "            h=w[0]+w[j+1]*Xtr[i,j]\n",
    "        y[i] = 1/(1+(np.exp(-h)))   # using sigmoid activation function\n",
    "    l = l + ytr[i]*(np.log10(y[i])) + (1-ytr[i])*(np.log(1-y[i]))   # cross entropy loss                                                                                                   \n",
    "    w_new = w  \n",
    "    for j in range(0,n):\n",
    "        sum=0\n",
    "        sum1=0\n",
    "        for i in range(0,m):\n",
    "            sum = sum + (y[i]-ytr[i])*Xtr[i,j]\n",
    "            sum1 = sum1 + (y[i]-ytr[i])\n",
    "        w_new[0] = w[0] - a*sum1\n",
    "        w_new[j+1] = w[j+1] - a*sum\n",
    "    w=w_new \n",
    "# now lets test this trained model for our test data\n",
    "Xte = X_test.to_numpy()\n",
    "yte = y_test.to_numpy() \n",
    "m1,n1=Xte.shape     \n",
    "y1=np.zeros(m1)\n",
    "y=np.transpose(y1)\n",
    "s1=0                                                         \n",
    "for i in range(0,m1):                                                    \n",
    "    for j in range (0,n1):\n",
    "        h=w[0]+w[j+1]*Xte[i,j]\n",
    "    y[i] = 1/(1+(np.exp(-h)))                                                  \n",
    "    if y[i] == yte[i]:\n",
    "       s1 = s1 + 1\n",
    "    else:                                                     \n",
    "       s1=s1\n",
    "Accuracy = (s1/m1)*100\n",
    "print(Accuracy)                                                         \n",
    "                                                         \n",
    "                                                         \n",
    "   "
   ]
  },
  {
   "cell_type": "code",
   "execution_count": null,
   "id": "30142d3b",
   "metadata": {},
   "outputs": [],
   "source": []
  },
  {
   "cell_type": "code",
   "execution_count": null,
   "id": "6366a94b",
   "metadata": {},
   "outputs": [],
   "source": []
  },
  {
   "cell_type": "code",
   "execution_count": null,
   "id": "31a7f0ff",
   "metadata": {},
   "outputs": [],
   "source": []
  },
  {
   "cell_type": "code",
   "execution_count": null,
   "id": "8aca2e74",
   "metadata": {},
   "outputs": [],
   "source": []
  }
 ],
 "metadata": {
  "kernelspec": {
   "display_name": "Python 3",
   "language": "python",
   "name": "python3"
  },
  "language_info": {
   "codemirror_mode": {
    "name": "ipython",
    "version": 3
   },
   "file_extension": ".py",
   "mimetype": "text/x-python",
   "name": "python",
   "nbconvert_exporter": "python",
   "pygments_lexer": "ipython3",
   "version": "3.8.8"
  }
 },
 "nbformat": 4,
 "nbformat_minor": 5
}
