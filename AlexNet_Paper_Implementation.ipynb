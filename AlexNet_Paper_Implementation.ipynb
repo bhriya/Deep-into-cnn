{
  "nbformat": 4,
  "nbformat_minor": 0,
  "metadata": {
    "colab": {
      "name": "AlexNet Paper Implementation.ipynb",
      "provenance": [],
      "collapsed_sections": []
    },
    "kernelspec": {
      "display_name": "Python 3",
      "name": "python3"
    },
    "language_info": {
      "name": "python"
    },
    "accelerator": "GPU",
    "widgets": {
      "application/vnd.jupyter.widget-state+json": {
        "29e9118d1123441697b93e91643fb751": {
          "model_module": "@jupyter-widgets/controls",
          "model_name": "HBoxModel",
          "state": {
            "_view_name": "HBoxView",
            "_dom_classes": [],
            "_model_name": "HBoxModel",
            "_view_module": "@jupyter-widgets/controls",
            "_model_module_version": "1.5.0",
            "_view_count": null,
            "_view_module_version": "1.5.0",
            "box_style": "",
            "layout": "IPY_MODEL_2212fe0777434145b5d6ea48578baa66",
            "_model_module": "@jupyter-widgets/controls",
            "children": [
              "IPY_MODEL_40d14f3af2de4772b69979e60b96fb2c",
              "IPY_MODEL_c6d25180f6de4d67a57cf89e60abbfa8"
            ]
          }
        },
        "2212fe0777434145b5d6ea48578baa66": {
          "model_module": "@jupyter-widgets/base",
          "model_name": "LayoutModel",
          "state": {
            "_view_name": "LayoutView",
            "grid_template_rows": null,
            "right": null,
            "justify_content": null,
            "_view_module": "@jupyter-widgets/base",
            "overflow": null,
            "_model_module_version": "1.2.0",
            "_view_count": null,
            "flex_flow": null,
            "width": null,
            "min_width": null,
            "border": null,
            "align_items": null,
            "bottom": null,
            "_model_module": "@jupyter-widgets/base",
            "top": null,
            "grid_column": null,
            "overflow_y": null,
            "overflow_x": null,
            "grid_auto_flow": null,
            "grid_area": null,
            "grid_template_columns": null,
            "flex": null,
            "_model_name": "LayoutModel",
            "justify_items": null,
            "grid_row": null,
            "max_height": null,
            "align_content": null,
            "visibility": null,
            "align_self": null,
            "height": null,
            "min_height": null,
            "padding": null,
            "grid_auto_rows": null,
            "grid_gap": null,
            "max_width": null,
            "order": null,
            "_view_module_version": "1.2.0",
            "grid_template_areas": null,
            "object_position": null,
            "object_fit": null,
            "grid_auto_columns": null,
            "margin": null,
            "display": null,
            "left": null
          }
        },
        "40d14f3af2de4772b69979e60b96fb2c": {
          "model_module": "@jupyter-widgets/controls",
          "model_name": "FloatProgressModel",
          "state": {
            "_view_name": "ProgressView",
            "style": "IPY_MODEL_aedb4137a9ce4445ad35fb6e6298c462",
            "_dom_classes": [],
            "description": "",
            "_model_name": "FloatProgressModel",
            "bar_style": "success",
            "max": 170498071,
            "_view_module": "@jupyter-widgets/controls",
            "_model_module_version": "1.5.0",
            "value": 170498071,
            "_view_count": null,
            "_view_module_version": "1.5.0",
            "orientation": "horizontal",
            "min": 0,
            "description_tooltip": null,
            "_model_module": "@jupyter-widgets/controls",
            "layout": "IPY_MODEL_a28ba55ec65c4055868c922396acba8d"
          }
        },
        "c6d25180f6de4d67a57cf89e60abbfa8": {
          "model_module": "@jupyter-widgets/controls",
          "model_name": "HTMLModel",
          "state": {
            "_view_name": "HTMLView",
            "style": "IPY_MODEL_378eafb886594968aa542e05bd8689db",
            "_dom_classes": [],
            "description": "",
            "_model_name": "HTMLModel",
            "placeholder": "​",
            "_view_module": "@jupyter-widgets/controls",
            "_model_module_version": "1.5.0",
            "value": " 170499072/? [04:42&lt;00:00, 603391.47it/s]",
            "_view_count": null,
            "_view_module_version": "1.5.0",
            "description_tooltip": null,
            "_model_module": "@jupyter-widgets/controls",
            "layout": "IPY_MODEL_0dfb9b189122444b8e5c9b91a19be66a"
          }
        },
        "aedb4137a9ce4445ad35fb6e6298c462": {
          "model_module": "@jupyter-widgets/controls",
          "model_name": "ProgressStyleModel",
          "state": {
            "_view_name": "StyleView",
            "_model_name": "ProgressStyleModel",
            "description_width": "initial",
            "_view_module": "@jupyter-widgets/base",
            "_model_module_version": "1.5.0",
            "_view_count": null,
            "_view_module_version": "1.2.0",
            "bar_color": null,
            "_model_module": "@jupyter-widgets/controls"
          }
        },
        "a28ba55ec65c4055868c922396acba8d": {
          "model_module": "@jupyter-widgets/base",
          "model_name": "LayoutModel",
          "state": {
            "_view_name": "LayoutView",
            "grid_template_rows": null,
            "right": null,
            "justify_content": null,
            "_view_module": "@jupyter-widgets/base",
            "overflow": null,
            "_model_module_version": "1.2.0",
            "_view_count": null,
            "flex_flow": null,
            "width": null,
            "min_width": null,
            "border": null,
            "align_items": null,
            "bottom": null,
            "_model_module": "@jupyter-widgets/base",
            "top": null,
            "grid_column": null,
            "overflow_y": null,
            "overflow_x": null,
            "grid_auto_flow": null,
            "grid_area": null,
            "grid_template_columns": null,
            "flex": null,
            "_model_name": "LayoutModel",
            "justify_items": null,
            "grid_row": null,
            "max_height": null,
            "align_content": null,
            "visibility": null,
            "align_self": null,
            "height": null,
            "min_height": null,
            "padding": null,
            "grid_auto_rows": null,
            "grid_gap": null,
            "max_width": null,
            "order": null,
            "_view_module_version": "1.2.0",
            "grid_template_areas": null,
            "object_position": null,
            "object_fit": null,
            "grid_auto_columns": null,
            "margin": null,
            "display": null,
            "left": null
          }
        },
        "378eafb886594968aa542e05bd8689db": {
          "model_module": "@jupyter-widgets/controls",
          "model_name": "DescriptionStyleModel",
          "state": {
            "_view_name": "StyleView",
            "_model_name": "DescriptionStyleModel",
            "description_width": "",
            "_view_module": "@jupyter-widgets/base",
            "_model_module_version": "1.5.0",
            "_view_count": null,
            "_view_module_version": "1.2.0",
            "_model_module": "@jupyter-widgets/controls"
          }
        },
        "0dfb9b189122444b8e5c9b91a19be66a": {
          "model_module": "@jupyter-widgets/base",
          "model_name": "LayoutModel",
          "state": {
            "_view_name": "LayoutView",
            "grid_template_rows": null,
            "right": null,
            "justify_content": null,
            "_view_module": "@jupyter-widgets/base",
            "overflow": null,
            "_model_module_version": "1.2.0",
            "_view_count": null,
            "flex_flow": null,
            "width": null,
            "min_width": null,
            "border": null,
            "align_items": null,
            "bottom": null,
            "_model_module": "@jupyter-widgets/base",
            "top": null,
            "grid_column": null,
            "overflow_y": null,
            "overflow_x": null,
            "grid_auto_flow": null,
            "grid_area": null,
            "grid_template_columns": null,
            "flex": null,
            "_model_name": "LayoutModel",
            "justify_items": null,
            "grid_row": null,
            "max_height": null,
            "align_content": null,
            "visibility": null,
            "align_self": null,
            "height": null,
            "min_height": null,
            "padding": null,
            "grid_auto_rows": null,
            "grid_gap": null,
            "max_width": null,
            "order": null,
            "_view_module_version": "1.2.0",
            "grid_template_areas": null,
            "object_position": null,
            "object_fit": null,
            "grid_auto_columns": null,
            "margin": null,
            "display": null,
            "left": null
          }
        }
      }
    }
  },
  "cells": [
    {
      "cell_type": "code",
      "metadata": {
        "id": "rDT7QRi-is4M"
      },
      "source": [
        "from __future__ import print_function\n",
        "import numpy as np\n",
        "import torch\n",
        "import torchvision as tv\n",
        "import matplotlib.pyplot as plt\n",
        "import torch.nn as nn\n",
        "import torch.nn.functional as F\n",
        "import torch.optim as optim\n",
        "from torchvision.datasets import CIFAR10\n",
        "from torchvision.utils import make_grid\n",
        "from torch.utils.data.dataloader import DataLoader"
      ],
      "execution_count": 2,
      "outputs": []
    },
    {
      "cell_type": "code",
      "metadata": {
        "colab": {
          "base_uri": "https://localhost:8080/",
          "height": 116,
          "referenced_widgets": [
            "29e9118d1123441697b93e91643fb751",
            "2212fe0777434145b5d6ea48578baa66",
            "40d14f3af2de4772b69979e60b96fb2c",
            "c6d25180f6de4d67a57cf89e60abbfa8",
            "aedb4137a9ce4445ad35fb6e6298c462",
            "a28ba55ec65c4055868c922396acba8d",
            "378eafb886594968aa542e05bd8689db",
            "0dfb9b189122444b8e5c9b91a19be66a"
          ]
        },
        "id": "MW3YJ0rxiu0q",
        "outputId": "00327936-03bf-4ca3-8326-40fa94b2930c"
      },
      "source": [
        "# defining transforms to resize the images and converting them into a tensor\n",
        "transform = tv.transforms.Compose([tv.transforms.Resize(227),tv.transforms.ToTensor()])\n",
        "# dataset used for training and testing\n",
        "traindata = tv.datasets.CIFAR10(root='./data', train=True, download=True, transform=transform)\n",
        "testdata = tv.datasets.CIFAR10(root='./data', train=False, download=True, transform=transform)\n",
        "batchsize = 128\n",
        "# load batches of images and the corresponding labels\n",
        "train_loader = DataLoader(traindata, batch_size=batchsize, shuffle=True)\n",
        "test_loader = DataLoader(testdata, batch_size=batchsize, shuffle=True)"
      ],
      "execution_count": 3,
      "outputs": [
        {
          "output_type": "stream",
          "text": [
            "Downloading https://www.cs.toronto.edu/~kriz/cifar-10-python.tar.gz to ./data/cifar-10-python.tar.gz\n"
          ],
          "name": "stdout"
        },
        {
          "output_type": "display_data",
          "data": {
            "application/vnd.jupyter.widget-view+json": {
              "model_id": "29e9118d1123441697b93e91643fb751",
              "version_minor": 0,
              "version_major": 2
            },
            "text/plain": [
              "HBox(children=(FloatProgress(value=0.0, max=170498071.0), HTML(value='')))"
            ]
          },
          "metadata": {
            "tags": []
          }
        },
        {
          "output_type": "stream",
          "text": [
            "\n",
            "Extracting ./data/cifar-10-python.tar.gz to ./data\n",
            "Files already downloaded and verified\n"
          ],
          "name": "stdout"
        }
      ]
    },
    {
      "cell_type": "code",
      "metadata": {
        "id": "LVayGVUH9YHx"
      },
      "source": [
        "class CNN(nn.Module):\n",
        "      def __init__(self):\n",
        "          super(CNN, self).__init__()\n",
        "          self.conv1 = nn.Conv2d(in_channels=3, out_channels=96, kernel_size=11, stride=4)\n",
        "          self.pool1 = nn.MaxPool2d(kernel_size=3, stride=2)\n",
        "          self.conv2 = nn.Conv2d(in_channels=96, out_channels=256, kernel_size=5, stride=1, padding=2)\n",
        "          self.pool2 = nn.MaxPool2d(kernel_size=3, stride=2)\n",
        "          self.conv3 = nn.Conv2d(in_channels=256, out_channels=384, kernel_size=3, stride=1, padding=1)\n",
        "          self.conv4 = nn.Conv2d(in_channels=384, out_channels=384, kernel_size=3, stride=1, padding=1)\n",
        "          self.conv5 = nn.Conv2d(in_channels=384, out_channels=256, kernel_size=3, stride=1, padding=1)\n",
        "          self.pool3 = nn.MaxPool2d(kernel_size=3, stride=2)\n",
        "          self.drop_out1 = nn.Dropout(0.5)\n",
        "          self.fc1 = nn.Linear(in_features=9216, out_features=4096)\n",
        "          self.drop_out2 = nn.Dropout(0.5)\n",
        "          self.fc2 = nn.Linear(in_features=4096, out_features=4096)\n",
        "          self.fc3 = nn.Linear(in_features=4096, out_features=10)\n",
        "      def forward(self, x): \n",
        "          output = self.pool1(F.relu(self.conv1(x)))\n",
        "          output = self.pool2(F.relu(self.conv2(output)))\n",
        "          output = F.relu(self.conv3(output))\n",
        "          output = F.relu(self.conv4(output))\n",
        "          output = self.pool3(F.relu(self.conv5(output)))\n",
        "          output = output.flatten(1)\n",
        "          output = self.drop_out1(output)\n",
        "          output = F.relu(self.fc1(output))\n",
        "          output = self.drop_out1(output)\n",
        "          output = F.relu(self.fc2(output))\n",
        "          output = F.relu(self.fc3(output))\n",
        "          return output\n",
        "neu_net = CNN()\n",
        "if torch.cuda.is_available():\n",
        "   neu_net.cuda()        "
      ],
      "execution_count": 4,
      "outputs": []
    },
    {
      "cell_type": "code",
      "metadata": {
        "id": "_y3Blv5fY5H3"
      },
      "source": [
        "# loss function used and optimizer\n",
        "loss_function = torch.nn.CrossEntropyLoss()\n",
        "optimizer = optim.SGD(neu_net.parameters(), lr=0.01, weight_decay=0.0005, momentum=0.9)"
      ],
      "execution_count": 5,
      "outputs": []
    },
    {
      "cell_type": "code",
      "metadata": {
        "colab": {
          "base_uri": "https://localhost:8080/"
        },
        "id": "7H6tXC5ViHKp",
        "outputId": "94f46b32-f7de-4d95-beb1-532beab389d9"
      },
      "source": [
        "# train the model\n",
        "for epoch in range(1,11):\n",
        "    # create a loop to enumerate over batches \n",
        "    loss = 0\n",
        "    correct_predictions = 0\n",
        "    total_predictions = 0\n",
        "    for inputs, labels in train_loader:\n",
        "        # get the input images and labels\n",
        "        if torch.cuda.is_available():\n",
        "           inputs, labels = inputs.cuda(), labels.cuda()   \n",
        "        # zero the parameter gradients\n",
        "        optimizer.zero_grad()\n",
        "        # forward propagation \n",
        "        outputs = neu_net(inputs)\n",
        "        # calculate loss \n",
        "        loss_func = loss_function(outputs, labels)\n",
        "        loss += loss_func.item()\n",
        "        prediction = outputs.argmax(1)  # calculate the index that has maximum value \n",
        "        correct_predictions += prediction.eq(labels.data).sum().item()\n",
        "        total_predictions += labels.size(0)\n",
        "        # use the backward call to calculate gradients of loss function wrt the parameters\n",
        "        loss_func.backward()\n",
        "        # update the values of parameters\n",
        "        optimizer.step()   \n",
        "    print('Epoch: %d  Loss: %.5f  Training Accuracy: %.2f %%' % (epoch, loss / (len(train_loader)), 100*(correct_predictions/total_predictions)))\n",
        "     "
      ],
      "execution_count": 18,
      "outputs": [
        {
          "output_type": "stream",
          "text": [
            "Epoch: 1  Loss: 0.31195  Training Accuracy: 87.87 %\n",
            "Epoch: 2  Loss: 0.30775  Training Accuracy: 87.89 %\n",
            "Epoch: 3  Loss: 0.30282  Training Accuracy: 88.09 %\n",
            "Epoch: 4  Loss: 0.30329  Training Accuracy: 88.09 %\n",
            "Epoch: 5  Loss: 0.30302  Training Accuracy: 88.02 %\n",
            "Epoch: 6  Loss: 0.30127  Training Accuracy: 88.20 %\n",
            "Epoch: 7  Loss: 0.29213  Training Accuracy: 88.40 %\n",
            "Epoch: 8  Loss: 0.29382  Training Accuracy: 88.29 %\n",
            "Epoch: 9  Loss: 0.28811  Training Accuracy: 88.41 %\n",
            "Epoch: 10  Loss: 0.28791  Training Accuracy: 88.48 %\n"
          ],
          "name": "stdout"
        }
      ]
    },
    {
      "cell_type": "code",
      "metadata": {
        "colab": {
          "base_uri": "https://localhost:8080/"
        },
        "id": "8JiDJMXJWQ19",
        "outputId": "ad485c4b-61b0-497f-d955-18acfcf1263c"
      },
      "source": [
        "# calculate accuracy on test data\n",
        "correct_predictions = 0\n",
        "total_predictions = 0\n",
        "for inputs, labels in test_loader:\n",
        "    if torch.cuda.is_available():\n",
        "           inputs, labels = inputs.cuda(), labels.cuda() \n",
        "           outputs = neu_net(inputs)\n",
        "           prediction = outputs.argmax(1)\n",
        "           correct_predictions += prediction.eq(labels.data).sum().item()\n",
        "           total_predictions += labels.size(0)\n",
        "print('Test_Accuracy: %.2f %%' % (100 * (correct_predictions/total_predictions)))"
      ],
      "execution_count": 19,
      "outputs": [
        {
          "output_type": "stream",
          "text": [
            "Test_Accuracy: 76.51 %\n"
          ],
          "name": "stdout"
        }
      ]
    }
  ]
}